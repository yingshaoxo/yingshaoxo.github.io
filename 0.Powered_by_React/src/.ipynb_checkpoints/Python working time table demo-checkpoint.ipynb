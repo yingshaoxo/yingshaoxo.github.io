{
 "cells": [
  {
   "cell_type": "code",
   "execution_count": 1,
   "metadata": {},
   "outputs": [],
   "source": [
    "# busy and idle\n",
    "\n",
    "state = ['busy', 'idle']"
   ]
  },
  {
   "cell_type": "code",
   "execution_count": 25,
   "metadata": {},
   "outputs": [
    {
     "name": "stdout",
     "output_type": "stream",
     "text": [
      "['1.27', '1.28', '1.29', '1.30', '1.31', '2.1', '2.2', '2.3', '2.4', '2.5', '2.6', '2.7', '2.8', '2.9', '2.10', '2.11', '2.12', '2.13', '2.14', '2.15', '2.16', '2.17', '2.18', '2.19', '2.20', '2.21', '2.22', '2.23', '2.24', '2.25', '2.26', '2.27', '2.28', '3.1', '3.2', '3.3', '3.4', '3.5', '3.6', '3.7', '3.8', '3.9', '3.10', '3.11', '3.12', '3.13', '3.14', '3.15', '3.16', '3.17', '3.18', '3.19', '3.20', '3.21', '3.22', '3.23', '3.24', '3.25', '3.26', '3.27', '3.28', '3.29', '3.30', '3.31', '4.1', '4.2', '4.3', '4.4', '4.5', '4.6', '4.7', '4.8', '4.9', '4.10', '4.11', '4.12', '4.13', '4.14', '4.15', '4.16', '4.17', '4.18', '4.19', '4.20', '4.21', '4.22', '4.23', '4.24', '4.25']\n"
     ]
    }
   ],
   "source": [
    "import datetime\n",
    "\n",
    "days = []\n",
    "for i in range(1, 90):\n",
    "    the_day = datetime.datetime.now() + datetime.timedelta(days=i)\n",
    "    days.append(\n",
    "            str(the_day.month) + '.' + str(the_day.day)\n",
    "        )\n",
    "\n",
    "print(days)"
   ]
  },
  {
   "cell_type": "code",
   "execution_count": 26,
   "metadata": {},
   "outputs": [],
   "source": [
    "work_table = [\n",
    "    {\n",
    "        'month': '1',\n",
    "        'day': '28',\n",
    "    },\n",
    "    {\n",
    "        'month': '2',\n",
    "        'day': '15-20',\n",
    "    },\n",
    "#    {\n",
    "#        'month': '2-3',\n",
    "#        'day': '15-20',\n",
    "#    }\n",
    "]"
   ]
  },
  {
   "cell_type": "code",
   "execution_count": 27,
   "metadata": {},
   "outputs": [
    {
     "name": "stdout",
     "output_type": "stream",
     "text": [
      "['1.28', '2.15', '2.16', '2.17', '2.18', '2.19', '2.20']\n"
     ]
    }
   ],
   "source": [
    "working_days = []\n",
    "\n",
    "for item in work_table:\n",
    "    month = item['month']\n",
    "    day = item['day']\n",
    "    if '-' in month:\n",
    "        month_start = int(month.split('-')[0])\n",
    "        month_end = int(month.split('-')[1])\n",
    "        number_of_month = month_end - month_start\n",
    "        how_many_days_between_the_two_mouth = number_of_month * 30\n",
    "        for i in range(1, how_many_days_between_the_two_mouth):\n",
    "            the_day = datetime.datetime(datetime.datetime.now().year, month_start,datetime.datetime.now().day) + datetime.timedelta(days=i)\n",
    "            the_day = str(the_day.month) + '.' + str(the_day.day)\n",
    "            if the_day not in working_days:\n",
    "                working_days.append(the_day)\n",
    "    elif '-' not in month:\n",
    "        if '-' not in day:\n",
    "            the_day = str(month) + '.' + str(day)\n",
    "            if the_day not in working_days:\n",
    "                working_days.append(the_day)\n",
    "        elif '-' in day:\n",
    "            day_start = int(day.split('-')[0])\n",
    "            day_end = int(day.split('-')[1])\n",
    "            number_of_days = day_end - day_start\n",
    "            for i in range(0, number_of_days + 1):\n",
    "                the_day = datetime.datetime(datetime.datetime.now().year, int(month), day_start) + datetime.timedelta(days=i)\n",
    "                the_day = str(the_day.month) + '.' + str(the_day.day)\n",
    "                if the_day not in working_days:\n",
    "                    working_days.append(the_day)\n",
    "\n",
    "print(working_days)"
   ]
  },
  {
   "cell_type": "code",
   "execution_count": 29,
   "metadata": {},
   "outputs": [
    {
     "name": "stdout",
     "output_type": "stream",
     "text": [
      "1.27 idle\n",
      "1.28 busy\n",
      "1.29 idle\n",
      "1.30 idle\n",
      "1.31 idle\n",
      "2.1 idle\n",
      "2.2 idle\n",
      "2.3 idle\n",
      "2.4 idle\n",
      "2.5 idle\n",
      "2.6 idle\n",
      "2.7 idle\n",
      "2.8 idle\n",
      "2.9 idle\n",
      "2.10 idle\n",
      "2.11 idle\n",
      "2.12 idle\n",
      "2.13 idle\n",
      "2.14 idle\n",
      "2.15 busy\n",
      "2.16 busy\n",
      "2.17 busy\n",
      "2.18 busy\n",
      "2.19 busy\n",
      "2.20 busy\n",
      "2.21 idle\n",
      "2.22 idle\n",
      "2.23 idle\n",
      "2.24 idle\n",
      "2.25 idle\n",
      "2.26 idle\n",
      "2.27 idle\n",
      "2.28 idle\n",
      "3.1 idle\n",
      "3.2 idle\n",
      "3.3 idle\n",
      "3.4 idle\n",
      "3.5 idle\n",
      "3.6 idle\n",
      "3.7 idle\n",
      "3.8 idle\n",
      "3.9 idle\n",
      "3.10 idle\n",
      "3.11 idle\n",
      "3.12 idle\n",
      "3.13 idle\n",
      "3.14 idle\n",
      "3.15 idle\n",
      "3.16 idle\n",
      "3.17 idle\n",
      "3.18 idle\n",
      "3.19 idle\n",
      "3.20 idle\n",
      "3.21 idle\n",
      "3.22 idle\n",
      "3.23 idle\n",
      "3.24 idle\n",
      "3.25 idle\n",
      "3.26 idle\n",
      "3.27 idle\n",
      "3.28 idle\n",
      "3.29 idle\n",
      "3.30 idle\n",
      "3.31 idle\n",
      "4.1 idle\n",
      "4.2 idle\n",
      "4.3 idle\n",
      "4.4 idle\n",
      "4.5 idle\n",
      "4.6 idle\n",
      "4.7 idle\n",
      "4.8 idle\n",
      "4.9 idle\n",
      "4.10 idle\n",
      "4.11 idle\n",
      "4.12 idle\n",
      "4.13 idle\n",
      "4.14 idle\n",
      "4.15 idle\n",
      "4.16 idle\n",
      "4.17 idle\n",
      "4.18 idle\n",
      "4.19 idle\n",
      "4.20 idle\n",
      "4.21 idle\n",
      "4.22 idle\n",
      "4.23 idle\n",
      "4.24 idle\n",
      "4.25 idle\n"
     ]
    }
   ],
   "source": [
    "from pprint import pprint\n",
    "\n",
    "for day in days:\n",
    "    if day in working_days:\n",
    "        print(day, state[0])\n",
    "    else:\n",
    "        print(day, state[1])"
   ]
  },
  {
   "cell_type": "code",
   "execution_count": null,
   "metadata": {},
   "outputs": [],
   "source": []
  }
 ],
 "metadata": {
  "kernelspec": {
   "display_name": "Python 3",
   "language": "python",
   "name": "python3"
  },
  "language_info": {
   "codemirror_mode": {
    "name": "ipython",
    "version": 3
   },
   "file_extension": ".py",
   "mimetype": "text/x-python",
   "name": "python",
   "nbconvert_exporter": "python",
   "pygments_lexer": "ipython3",
   "version": "3.6.5"
  }
 },
 "nbformat": 4,
 "nbformat_minor": 2
}
